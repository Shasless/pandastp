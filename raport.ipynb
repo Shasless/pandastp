{
 "cells": [
  {
   "cell_type": "code",
   "execution_count": null,
   "metadata": {
    "collapsed": true,
    "pycharm": {
     "name": "#%%\n"
    }
   },
   "outputs": [],
   "source": [
    "Adrien GIRARD - Student number 20180413"
   ]
  },
  {
   "cell_type": "code",
   "execution_count": null,
   "outputs": [],
   "source": [
    "class Analyse:\n",
    "    def __init__(self, chemin, type):\n",
    "        self.df = None\n",
    "        self.path = chemin\n",
    "        self.type = type\n",
    "        self.createDataframe()\n",
    "        self.reorganizeDataFrame()"
   ],
   "metadata": {
    "collapsed": false,
    "pycharm": {
     "name": "#%%\n"
    }
   }
  },
  {
   "cell_type": "code",
   "execution_count": null,
   "outputs": [],
   "source": [
    "In the Class Analyse we create a dataframe from the file and we reorganize the dataframe to have the good format."
   ],
   "metadata": {
    "collapsed": false,
    "pycharm": {
     "name": "#%%\n"
    }
   }
  },
  {
   "cell_type": "code",
   "execution_count": null,
   "outputs": [],
   "source": [
    "from utils import *\n",
    "\n",
    "amazon = Analyse(\"stocks_data/AMAZON.csv\", 'csv')\n",
    "apple = Analyse(\"stocks_data/APPLE.csv\", 'csv')\n",
    "amazon.Analyse_data()\n",
    "amazon.CorrWithAnotherData(apple)\n"
   ],
   "metadata": {
    "collapsed": false,
    "pycharm": {
     "name": "#%%\n"
    }
   }
  },
  {
   "cell_type": "code",
   "execution_count": null,
   "outputs": [],
   "source": [
    "We call the class that way."
   ],
   "metadata": {
    "collapsed": false,
    "pycharm": {
     "name": "#%%\n"
    }
   }
  },
  {
   "cell_type": "code",
   "execution_count": null,
   "outputs": [],
   "source": [
    "    def Analyse_data(self):\n",
    "        self.printHead(20)\n",
    "        self.printTail(20)\n",
    "        self.printInfo()\n",
    "        self.printDescription()\n",
    "        self.printTimeGap()\n",
    "        self.printSize()\n",
    "        self.printCorrelation()\n",
    "        self.printMaxCol('High')\n",
    "        self.printMinCol('Low')\n",
    "        self.movvingAverage('High', 10)\n",
    "        self.movvingAverage('Low', 10)\n",
    "        self.daily_return('High')\n",
    "        self.daily_return('Low')"
   ],
   "metadata": {
    "collapsed": false,
    "pycharm": {
     "name": "#%%\n"
    }
   }
  },
  {
   "cell_type": "code",
   "execution_count": null,
   "outputs": [],
   "source": [
    "this function print all the info we need from the dataframe to analyse it."
   ],
   "metadata": {
    "collapsed": false,
    "pycharm": {
     "name": "#%%\n"
    }
   }
  },
  {
   "cell_type": "code",
   "execution_count": null,
   "outputs": [],
   "source": [
    " def printTimeGap(self):\n",
    "        a = self.df.index[len(self.df) - 1] - self.df.index[0]\n",
    "        a = a.days / len(self.df)\n",
    "        print(\"The mean time Between two observation is\", round(a, 2), \"day(s)\")\n",
    "        print(\"We estimate that the observatrion are\",closest_value(a))\n",
    "\n",
    "def closest_value( input_value):\n",
    "    input_list = [1, 7, 30, 365]\n",
    "    input_list.sort(reverse=True)\n",
    "\n",
    "    difference = lambda input_list: abs(input_list - input_value)\n",
    "\n",
    "    res = min(input_list, key=difference)\n",
    "    if(res==1):\n",
    "        return \"daily\"\n",
    "    elif(res==7):\n",
    "        return \"weekly\"\n",
    "    elif(res==30):\n",
    "        return \"monthly\"\n",
    "    elif(res==365):\n",
    "        return \"yearly\""
   ],
   "metadata": {
    "collapsed": false,
    "pycharm": {
     "name": "#%%\n"
    }
   }
  },
  {
   "cell_type": "code",
   "execution_count": null,
   "outputs": [],
   "source": [
    "We use this to determine the time gap between the data.We take the mean difference between two data and we determine the closest value to it."
   ],
   "metadata": {
    "collapsed": false,
    "pycharm": {
     "name": "#%%\n"
    }
   }
  },
  {
   "cell_type": "code",
   "execution_count": null,
   "outputs": [],
   "source": [
    " def printSize(self):\n",
    "        print(\"The size of the dataframe is\", len(self.df))\n",
    "\n",
    "    def printCorrelation(self):\n",
    "        print(\"correlation between\", self.path)\n",
    "        print(self.df.corr())\n",
    "\n",
    "    def printStd(self):\n",
    "        print(\"Standard deviation\")\n",
    "        print(self.df.std(numeric_only=True))\n",
    "\n",
    "    def printMaxCol(self, colname):\n",
    "        print(\"Max\", colname, \"is\", self.df[colname].max())\n",
    "\n",
    "    def printMinCol(self, colname):\n",
    "        print(\"Min\", colname, \"is\", self.df[colname].min())"
   ],
   "metadata": {
    "collapsed": false,
    "pycharm": {
     "name": "#%%\n"
    }
   }
  },
  {
   "cell_type": "code",
   "execution_count": null,
   "outputs": [],
   "source": [
    "We print a lot of information about the dataframe."
   ],
   "metadata": {
    "collapsed": false,
    "pycharm": {
     "name": "#%%\n"
    }
   }
  },
  {
   "cell_type": "code",
   "execution_count": null,
   "outputs": [],
   "source": [
    "    def movvingAverage(self, colname, nbr):\n",
    "        name_colum = 'moving_average_' + colname\n",
    "        self.df[name_colum] = self.df[colname].rolling(nbr).mean()\n",
    "\n",
    "    def movingAverageHommemade(self, colname, nbr):\n",
    "        sum = 0\n",
    "        new_col = []\n",
    "        nbr += 1\n",
    "        for i in range(0, len(self.df)):\n",
    "            if (i < nbr):\n",
    "                new_col.append(0)\n",
    "\n",
    "            else:\n",
    "                for y in range(i - nbr, i):\n",
    "                    sum += self.df.iloc[y][colname]\n",
    "                new_col.append(sum / nbr)\n",
    "                sum = 0\n",
    "\n",
    "        name_colum = 'moving_average_' + colname\n",
    "        self.df[name_colum] = new_col"
   ],
   "metadata": {
    "collapsed": false,
    "pycharm": {
     "name": "#%%\n"
    }
   }
  },
  {
   "cell_type": "code",
   "execution_count": null,
   "outputs": [],
   "source": [
    "For the mooving average I first create a function to do it, and after I realise taht poandas permited to do it easier."
   ],
   "metadata": {
    "collapsed": false,
    "pycharm": {
     "name": "#%%\n"
    }
   }
  },
  {
   "cell_type": "code",
   "execution_count": null,
   "outputs": [],
   "source": [
    "    def CorrWithAnotherData(self, other):\n",
    "        print(\"correlation between\", self.path, \"and\", other.path)\n",
    "        print(self.df.corrwith(other.df))"
   ],
   "metadata": {
    "collapsed": false,
    "pycharm": {
     "name": "#%%\n"
    }
   }
  },
  {
   "cell_type": "code",
   "execution_count": null,
   "outputs": [],
   "source": [
    "This function print the correlation between the dataframe and another dataframe."
   ],
   "metadata": {
    "collapsed": false,
    "pycharm": {
     "name": "#%%\n"
    }
   }
  },
  {
   "cell_type": "markdown",
   "source": [],
   "metadata": {
    "collapsed": false,
    "pycharm": {
     "name": "#%% md\n"
    }
   }
  },
  {
   "cell_type": "code",
   "execution_count": null,
   "outputs": [],
   "source": [
    "    def show_graph(self):\n",
    "        fig = go.Figure(data=[go.Candlestick(x=self.df.index,\n",
    "                                             open=self.df['Open'],\n",
    "                                             high=self.df['High'],\n",
    "                                             low=self.df['Low'],\n",
    "                                             close=self.df['Close'])])\n",
    "\n",
    "        fig.show()"
   ],
   "metadata": {
    "collapsed": false,
    "pycharm": {
     "name": "#%%\n"
    }
   }
  },
  {
   "cell_type": "code",
   "execution_count": null,
   "outputs": [],
   "source": [
    "We use the plotly library to create a graph of the dataframe. We create a candle stick of all the data of the dataframe"
   ],
   "metadata": {
    "collapsed": false,
    "pycharm": {
     "name": "#%%\n"
    }
   }
  },
  {
   "cell_type": "code",
   "execution_count": null,
   "outputs": [],
   "source": [
    "PS: Having had the covid all week, I have not been able to work, so I apologize if the amount of work is not there, I would have liked to have the time/capacity to do more. Thank you very much"
   ],
   "metadata": {
    "collapsed": false,
    "pycharm": {
     "name": "#%%\n"
    }
   }
  }
 ],
 "metadata": {
  "kernelspec": {
   "display_name": "Python 3",
   "language": "python",
   "name": "python3"
  },
  "language_info": {
   "codemirror_mode": {
    "name": "ipython",
    "version": 2
   },
   "file_extension": ".py",
   "mimetype": "text/x-python",
   "name": "python",
   "nbconvert_exporter": "python",
   "pygments_lexer": "ipython2",
   "version": "2.7.6"
  }
 },
 "nbformat": 4,
 "nbformat_minor": 0
}